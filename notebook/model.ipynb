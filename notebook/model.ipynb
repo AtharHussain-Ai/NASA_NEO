{
 "cells": [
  {
   "cell_type": "code",
   "execution_count": 2,
   "id": "9f4c0019",
   "metadata": {},
   "outputs": [],
   "source": [
    "import pandas as pd\n",
    "import numpy as np\n",
    "import matplotlib.pyplot as plt\n",
    "import seaborn as sns\n",
    "\n",
    "from imblearn.over_sampling import SMOTE\n",
    "\n",
    "from sklearn.model_selection import train_test_split\n",
    "from sklearn.ensemble import RandomForestClassifier\n",
    "from sklearn.metrics import accuracy_score, classification_report, confusion_matrix\n",
    "import joblib\n",
    "import warnings\n",
    "warnings.filterwarnings('ignore')"
   ]
  },
  {
   "cell_type": "code",
   "execution_count": 3,
   "id": "13b16fc2",
   "metadata": {},
   "outputs": [
    {
     "data": {
      "text/html": [
       "<div>\n",
       "<style scoped>\n",
       "    .dataframe tbody tr th:only-of-type {\n",
       "        vertical-align: middle;\n",
       "    }\n",
       "\n",
       "    .dataframe tbody tr th {\n",
       "        vertical-align: top;\n",
       "    }\n",
       "\n",
       "    .dataframe thead th {\n",
       "        text-align: right;\n",
       "    }\n",
       "</style>\n",
       "<table border=\"1\" class=\"dataframe\">\n",
       "  <thead>\n",
       "    <tr style=\"text-align: right;\">\n",
       "      <th></th>\n",
       "      <th>neo_id</th>\n",
       "      <th>name</th>\n",
       "      <th>absolute_magnitude</th>\n",
       "      <th>estimated_diameter_min</th>\n",
       "      <th>estimated_diameter_max</th>\n",
       "      <th>orbiting_body</th>\n",
       "      <th>relative_velocity</th>\n",
       "      <th>miss_distance</th>\n",
       "      <th>is_hazardous</th>\n",
       "      <th>diameter_mean</th>\n",
       "      <th>velocity_diameter_ratio</th>\n",
       "      <th>log_miss_distance</th>\n",
       "      <th>threat_score</th>\n",
       "    </tr>\n",
       "  </thead>\n",
       "  <tbody>\n",
       "    <tr>\n",
       "      <th>0</th>\n",
       "      <td>2455415</td>\n",
       "      <td>455415 (2003 GA)</td>\n",
       "      <td>21.45</td>\n",
       "      <td>0.136319</td>\n",
       "      <td>0.304818</td>\n",
       "      <td>Earth</td>\n",
       "      <td>24865.506798</td>\n",
       "      <td>6.720689e+07</td>\n",
       "      <td>False</td>\n",
       "      <td>0.220568</td>\n",
       "      <td>1.127334e+05</td>\n",
       "      <td>18.023286</td>\n",
       "      <td>3.281926e-09</td>\n",
       "    </tr>\n",
       "    <tr>\n",
       "      <th>1</th>\n",
       "      <td>3132126</td>\n",
       "      <td>(2002 PB)</td>\n",
       "      <td>20.63</td>\n",
       "      <td>0.198863</td>\n",
       "      <td>0.444672</td>\n",
       "      <td>Earth</td>\n",
       "      <td>78890.076805</td>\n",
       "      <td>3.039644e+07</td>\n",
       "      <td>False</td>\n",
       "      <td>0.321768</td>\n",
       "      <td>2.451763e+05</td>\n",
       "      <td>17.229836</td>\n",
       "      <td>1.058571e-08</td>\n",
       "    </tr>\n",
       "    <tr>\n",
       "      <th>2</th>\n",
       "      <td>3557844</td>\n",
       "      <td>(2011 DW)</td>\n",
       "      <td>22.70</td>\n",
       "      <td>0.076658</td>\n",
       "      <td>0.171412</td>\n",
       "      <td>Earth</td>\n",
       "      <td>56036.519484</td>\n",
       "      <td>6.311863e+07</td>\n",
       "      <td>False</td>\n",
       "      <td>0.124035</td>\n",
       "      <td>4.517780e+05</td>\n",
       "      <td>17.960526</td>\n",
       "      <td>1.965102e-09</td>\n",
       "    </tr>\n",
       "    <tr>\n",
       "      <th>3</th>\n",
       "      <td>3656926</td>\n",
       "      <td>(2014 BT8)</td>\n",
       "      <td>25.00</td>\n",
       "      <td>0.026580</td>\n",
       "      <td>0.059435</td>\n",
       "      <td>Earth</td>\n",
       "      <td>47477.649832</td>\n",
       "      <td>4.290521e+07</td>\n",
       "      <td>False</td>\n",
       "      <td>0.043007</td>\n",
       "      <td>1.103917e+06</td>\n",
       "      <td>17.574504</td>\n",
       "      <td>1.002380e-09</td>\n",
       "    </tr>\n",
       "    <tr>\n",
       "      <th>4</th>\n",
       "      <td>3421513</td>\n",
       "      <td>(2008 OX1)</td>\n",
       "      <td>21.50</td>\n",
       "      <td>0.133216</td>\n",
       "      <td>0.297879</td>\n",
       "      <td>Earth</td>\n",
       "      <td>57853.295346</td>\n",
       "      <td>2.727908e+07</td>\n",
       "      <td>True</td>\n",
       "      <td>0.215547</td>\n",
       "      <td>2.684006e+05</td>\n",
       "      <td>17.121631</td>\n",
       "      <td>7.901561e-09</td>\n",
       "    </tr>\n",
       "  </tbody>\n",
       "</table>\n",
       "</div>"
      ],
      "text/plain": [
       "    neo_id              name  absolute_magnitude  estimated_diameter_min  \\\n",
       "0  2455415  455415 (2003 GA)               21.45                0.136319   \n",
       "1  3132126         (2002 PB)               20.63                0.198863   \n",
       "2  3557844         (2011 DW)               22.70                0.076658   \n",
       "3  3656926        (2014 BT8)               25.00                0.026580   \n",
       "4  3421513        (2008 OX1)               21.50                0.133216   \n",
       "\n",
       "   estimated_diameter_max orbiting_body  relative_velocity  miss_distance  \\\n",
       "0                0.304818         Earth       24865.506798   6.720689e+07   \n",
       "1                0.444672         Earth       78890.076805   3.039644e+07   \n",
       "2                0.171412         Earth       56036.519484   6.311863e+07   \n",
       "3                0.059435         Earth       47477.649832   4.290521e+07   \n",
       "4                0.297879         Earth       57853.295346   2.727908e+07   \n",
       "\n",
       "   is_hazardous  diameter_mean  velocity_diameter_ratio  log_miss_distance  \\\n",
       "0         False       0.220568             1.127334e+05          18.023286   \n",
       "1         False       0.321768             2.451763e+05          17.229836   \n",
       "2         False       0.124035             4.517780e+05          17.960526   \n",
       "3         False       0.043007             1.103917e+06          17.574504   \n",
       "4          True       0.215547             2.684006e+05          17.121631   \n",
       "\n",
       "   threat_score  \n",
       "0  3.281926e-09  \n",
       "1  1.058571e-08  \n",
       "2  1.965102e-09  \n",
       "3  1.002380e-09  \n",
       "4  7.901561e-09  "
      ]
     },
     "execution_count": 3,
     "metadata": {},
     "output_type": "execute_result"
    }
   ],
   "source": [
    "df = pd.read_csv('/Users/atharhussain/Developer/Projects/ML/NASA/data/clean_data.csv')\n",
    "df.head()"
   ]
  },
  {
   "cell_type": "code",
   "execution_count": 4,
   "id": "cf367cce",
   "metadata": {},
   "outputs": [
    {
     "name": "stdout",
     "output_type": "stream",
     "text": [
      "is_hazardous\n",
      "False    258516\n",
      "True      30214\n",
      "Name: count, dtype: int64\n"
     ]
    }
   ],
   "source": [
    "print(df['is_hazardous'].value_counts())"
   ]
  },
  {
   "cell_type": "code",
   "execution_count": 5,
   "id": "e240220a",
   "metadata": {},
   "outputs": [],
   "source": [
    "X = df.drop(columns=['is_hazardous', 'miss_distance'])\n",
    "y = df['is_hazardous']"
   ]
  },
  {
   "cell_type": "code",
   "execution_count": 6,
   "id": "811ce023",
   "metadata": {},
   "outputs": [
    {
     "name": "stdout",
     "output_type": "stream",
     "text": [
      "Before SMOTE: is_hazardous\n",
      "False    258516\n",
      "True      30214\n",
      "Name: count, dtype: int64\n",
      "After SMOTE: is_hazardous\n",
      "False    258516\n",
      "True     258516\n",
      "Name: count, dtype: int64\n"
     ]
    }
   ],
   "source": [
    "from sklearn.preprocessing import LabelEncoder\n",
    "from imblearn.over_sampling import SMOTE\n",
    "\n",
    "# Drop useless columns\n",
    "X = df.drop(columns=['neo_id', 'name', 'is_hazardous'])  \n",
    "y = df['is_hazardous']\n",
    "\n",
    "# Encode categorical column(s)\n",
    "if 'orbiting_body' in X.columns:\n",
    "    le = LabelEncoder()\n",
    "    X['orbiting_body'] = le.fit_transform(X['orbiting_body'])\n",
    "\n",
    "# Apply SMOTE\n",
    "smote = SMOTE(random_state=42)\n",
    "X_resampled, y_resampled = smote.fit_resample(X, y)\n",
    "\n",
    "print(\"Before SMOTE:\", y.value_counts())\n",
    "print(\"After SMOTE:\", y_resampled.value_counts())\n"
   ]
  },
  {
   "cell_type": "code",
   "execution_count": 7,
   "id": "7401a38a",
   "metadata": {},
   "outputs": [],
   "source": [
    "x_train, x_test, y_train, y_test = train_test_split(X_resampled, y_resampled, test_size=0.2, random_state=42)"
   ]
  },
  {
   "cell_type": "code",
   "execution_count": 8,
   "id": "f382a7bf",
   "metadata": {},
   "outputs": [
    {
     "name": "stdout",
     "output_type": "stream",
     "text": [
      "Train Accuracy: 91.2142641281354\n",
      "Test Accuracy: 90.578007291576\n"
     ]
    }
   ],
   "source": [
    "from sklearn.ensemble import RandomForestClassifier\n",
    "\n",
    "RF_model = RandomForestClassifier(\n",
    "    n_estimators=300,       \n",
    "    max_depth=20,           \n",
    "    min_samples_split=10,  \n",
    "    min_samples_leaf=5,    \n",
    "    max_features=\"sqrt\",    \n",
    "    class_weight=\"balanced\", \n",
    "    random_state=42,\n",
    "    n_jobs=-1\n",
    ")\n",
    "\n",
    "RF_model.fit(x_train, y_train)\n",
    "\n",
    "print(\"Train Accuracy:\", RF_model.score(x_train, y_train) * 100)\n",
    "print(\"Test Accuracy:\", RF_model.score(x_test, y_test) * 100)\n"
   ]
  },
  {
   "cell_type": "code",
   "execution_count": 9,
   "id": "5dda728b",
   "metadata": {},
   "outputs": [],
   "source": [
    "y_pred = RF_model.predict(x_test)"
   ]
  },
  {
   "cell_type": "code",
   "execution_count": 10,
   "id": "f6c7c599",
   "metadata": {},
   "outputs": [
    {
     "name": "stdout",
     "output_type": "stream",
     "text": [
      "Best threshold: 0.719826780283646\n"
     ]
    }
   ],
   "source": [
    "from sklearn.metrics import precision_recall_curve\n",
    "y_proba = RF_model.predict_proba(x_test)[:,1]\n",
    "prec, rec, thresh = precision_recall_curve(y_test, y_proba)\n",
    "\n",
    "# Example: choose threshold where precision and recall are balanced\n",
    "best_idx = np.argmax(2*prec*rec/(prec+rec))\n",
    "best_thresh = thresh[best_idx]\n",
    "print(\"Best threshold:\", best_thresh)\n",
    "\n",
    "y_pred_custom = (y_proba >= best_thresh).astype(int)"
   ]
  },
  {
   "cell_type": "code",
   "execution_count": 11,
   "id": "075724a7",
   "metadata": {},
   "outputs": [
    {
     "name": "stdout",
     "output_type": "stream",
     "text": [
      "Confusion Matrix:\n",
      " [[46206  5515]\n",
      " [ 2701 48985]]\n",
      "\n",
      "Classification Report:\n",
      "               precision    recall  f1-score   support\n",
      "\n",
      "       False       0.94      0.89      0.92     51721\n",
      "        True       0.90      0.95      0.92     51686\n",
      "\n",
      "    accuracy                           0.92    103407\n",
      "   macro avg       0.92      0.92      0.92    103407\n",
      "weighted avg       0.92      0.92      0.92    103407\n",
      "\n"
     ]
    }
   ],
   "source": [
    "y_proba = RF_model.predict_proba(x_test)[:,1]\n",
    "best_thresh = 0.719826780283646\n",
    "y_pred_custom = (y_proba >= best_thresh).astype(int)\n",
    "from sklearn.metrics import classification_report, confusion_matrix\n",
    "\n",
    "print(\"Confusion Matrix:\\n\", confusion_matrix(y_test, y_pred_custom))\n",
    "print(\"\\nClassification Report:\\n\", classification_report(y_test, y_pred_custom))\n"
   ]
  },
  {
   "cell_type": "code",
   "execution_count": 12,
   "id": "9c081ecf",
   "metadata": {},
   "outputs": [
    {
     "data": {
      "image/png": "[encoded data removed]",
      "text/plain": [
       "<Figure size 600x400 with 1 Axes>"
      ]
     },
     "metadata": {},
     "output_type": "display_data"
    }
   ],
   "source": [
    "CM = confusion_matrix(y_test, y_pred_custom)\n",
    "\n",
    "plt.figure(figsize=(6, 4))\n",
    "sns.heatmap(\n",
    "    CM, \n",
    "    annot=True, \n",
    "    fmt='d', \n",
    "    cmap='Blues_r', \n",
    "    cbar=False,\n",
    "    xticklabels=['Predicted: False', 'Predicted: True'],\n",
    "    yticklabels=['Actual: False', 'Actual: True']\n",
    ")\n",
    "\n",
    "plt.title('Confusion Matrix', fontsize=14)\n",
    "plt.xlabel('Predicted Label')\n",
    "plt.ylabel('Actual Label')\n",
    "plt.show()"
   ]
  },
  {
   "cell_type": "code",
   "execution_count": 14,
   "id": "9f844d81",
   "metadata": {},
   "outputs": [
    {
     "name": "stdout",
     "output_type": "stream",
     "text": [
      "Model saved as random_forest_asteroid_model.joblib\n"
     ]
    }
   ],
   "source": [
    "joblib.dump(RF_model, \"random_forest_asteroid_model.joblib\")\n",
    "\n",
    "print(\"Model saved as random_forest_asteroid_model.joblib\")"
   ]
  },
  {
   "cell_type": "code",
   "execution_count": null,
   "id": "1845ff22",
   "metadata": {},
   "outputs": [],
   "source": []
  }
 ],
 "metadata": {
  "kernelspec": {
   "display_name": "base",
   "language": "python",
   "name": "python3"
  },
  "language_info": {
   "codemirror_mode": {
    "name": "ipython",
    "version": 3
   },
   "file_extension": ".py",
   "mimetype": "text/x-python",
   "name": "python",
   "nbconvert_exporter": "python",
   "pygments_lexer": "ipython3",
   "version": "3.13.5"
  }
 },
 "nbformat": 4,
 "nbformat_minor": 5
}
